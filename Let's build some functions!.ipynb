{
 "cells": [
  {
   "cell_type": "code",
   "execution_count": 2,
   "id": "f02cb749",
   "metadata": {},
   "outputs": [],
   "source": [
    "def grand(a,b,c):\n",
    "  if a>b and a>c:\n",
    "    print(a,'is max')\n",
    "  elif b>a and b>a:\n",
    "    print(b,\"is max\")\n",
    "  else:\n",
    "    print(c,\"is max\")"
   ]
  },
  {
   "cell_type": "code",
   "execution_count": 3,
   "id": "c4ed5d77",
   "metadata": {},
   "outputs": [
    {
     "name": "stdout",
     "output_type": "stream",
     "text": [
      "35 is max\n"
     ]
    }
   ],
   "source": [
    "grand(20,35,19)"
   ]
  },
  {
   "cell_type": "code",
   "execution_count": 4,
   "id": "023212bb",
   "metadata": {},
   "outputs": [
    {
     "data": {
      "text/plain": [
       "(50, 30)"
      ]
     },
     "execution_count": 4,
     "metadata": {},
     "output_type": "execute_result"
    }
   ],
   "source": [
    "def calcul(a, b):\n",
    "    A = a + b\n",
    "    S= a - b\n",
    "    return (A,S)\n",
    "R = calcul(40,10)\n",
    "R"
   ]
  },
  {
   "cell_type": "code",
   "execution_count": 5,
   "id": "c0077974",
   "metadata": {},
   "outputs": [],
   "source": [
    "a=[1,2,3,4,5,6]"
   ]
  },
  {
   "cell_type": "code",
   "execution_count": 6,
   "id": "4110e0dc",
   "metadata": {},
   "outputs": [],
   "source": [
    "def sumslist(a):\n",
    "  N=0\n",
    "  for i in a:\n",
    "    N=N+i\n",
    "  return N"
   ]
  },
  {
   "cell_type": "code",
   "execution_count": 7,
   "id": "052102e9",
   "metadata": {},
   "outputs": [],
   "source": [
    "def multi_list(a):\n",
    "  N=1\n",
    "  for i in a:\n",
    "    N=N*i\n",
    "  return N"
   ]
  },
  {
   "cell_type": "code",
   "execution_count": 8,
   "id": "35fc528e",
   "metadata": {},
   "outputs": [],
   "source": [
    "def liis(a):\n",
    "  odd_list=[]\n",
    "  even_list=[]\n",
    "  for s in range(len(a)) :\n",
    "    if s %2==0:\n",
    "      even_list.append(a[s])\n",
    "    else:\n",
    "      odd_list.append(a[s])\n",
    "  return even_list,odd_list,sumslist(even_list),multi_list(odd_list)"
   ]
  },
  {
   "cell_type": "code",
   "execution_count": 9,
   "id": "543c58a9",
   "metadata": {},
   "outputs": [
    {
     "data": {
      "text/plain": [
       "([1, 3, 5], [2, 4, 6], 9, 48)"
      ]
     },
     "execution_count": 9,
     "metadata": {},
     "output_type": "execute_result"
    }
   ],
   "source": [
    "liis(a)"
   ]
  },
  {
   "cell_type": "code",
   "execution_count": 12,
   "id": "a815d859",
   "metadata": {},
   "outputs": [
    {
     "name": "stdout",
     "output_type": "stream",
     "text": [
      "green-red-yellow-black-white\n",
      "black-green-red-white-yellow\n"
     ]
    }
   ],
   "source": [
    "pfiou=[n for n in input().split('-')]\n",
    "pfiou.sort()\n",
    "print('-'.join(pfiou))"
   ]
  },
  {
   "cell_type": "code",
   "execution_count": 33,
   "id": "379522a5",
   "metadata": {},
   "outputs": [
    {
     "name": "stdout",
     "output_type": "stream",
     "text": [
      "150 100 180\n",
      "22\n",
      "18\n",
      "24\n"
     ]
    }
   ],
   "source": [
    "from math import sqrt\n",
    "E=input().split(\" \")\n",
    "for D in E:\n",
    "    Q=round(sqrt((2 * 50 * int(D))/30),)\n",
    "    print (Q)"
   ]
  }
 ],
 "metadata": {
  "kernelspec": {
   "display_name": "Python 3 (ipykernel)",
   "language": "python",
   "name": "python3"
  },
  "language_info": {
   "codemirror_mode": {
    "name": "ipython",
    "version": 3
   },
   "file_extension": ".py",
   "mimetype": "text/x-python",
   "name": "python",
   "nbconvert_exporter": "python",
   "pygments_lexer": "ipython3",
   "version": "3.9.12"
  }
 },
 "nbformat": 4,
 "nbformat_minor": 5
}
